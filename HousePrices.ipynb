{
 "cells": [
  {
   "cell_type": "code",
   "execution_count": 1,
   "metadata": {},
   "outputs": [],
   "source": [
    "#import packages\n",
    "import numpy as np\n",
    "import matplotlib.pyplot as plt\n",
    "import pandas as pd\n",
    "import seaborn as sns\n",
    "from scipy import stats\n",
    "from DSHelper import CatEncoder"
   ]
  },
  {
   "cell_type": "code",
   "execution_count": 2,
   "metadata": {},
   "outputs": [],
   "source": [
    "#Import data\n",
    "#Import data\n",
    "train = pd.read_csv('SupportingFiles/train_houseprices.csv')\n",
    "test = pd.read_csv('SupportingFiles/test_houseprices.csv')\n",
    "# Get Ids for test\n",
    "test_ids = test[[\"Id\"]]\n",
    "#Drop all Ids\n",
    "test.drop(columns=['Id'], inplace= True)\n",
    "train.drop(columns=['Id'], inplace= True)\n",
    "#Combine data sets\n",
    "combine =  pd.concat([train,test], sort = 'True')\n",
    "#get independent variable for sale price\n",
    "y = train['SalePrice']"
   ]
  },
  {
   "cell_type": "markdown",
   "metadata": {},
   "source": [
    "# Data Cleaning\n",
    "- Remove Nulls\n",
    "- Normalize Data"
   ]
  },
  {
   "cell_type": "code",
   "execution_count": 3,
   "metadata": {},
   "outputs": [
    {
     "data": {
      "text/plain": [
       "Alley           93.216855\n",
       "BsmtCond         2.809181\n",
       "BsmtExposure     2.809181\n",
       "BsmtFinSF1       0.034258\n",
       "BsmtFinSF2       0.034258\n",
       "BsmtFinType1     2.706406\n",
       "BsmtFinType2     2.740665\n",
       "BsmtFullBath     0.068517\n",
       "BsmtHalfBath     0.068517\n",
       "BsmtQual         2.774923\n",
       "BsmtUnfSF        0.034258\n",
       "Electrical       0.034258\n",
       "Exterior1st      0.034258\n",
       "Exterior2nd      0.034258\n",
       "Fence           80.438506\n",
       "FireplaceQu     48.646797\n",
       "Functional       0.068517\n",
       "GarageArea       0.034258\n",
       "GarageCars       0.034258\n",
       "GarageCond       5.447071\n",
       "GarageFinish     5.447071\n",
       "GarageQual       5.447071\n",
       "GarageType       5.378554\n",
       "GarageYrBlt      5.447071\n",
       "KitchenQual      0.034258\n",
       "LotFrontage     16.649538\n",
       "MSZoning         0.137033\n",
       "MasVnrArea       0.787941\n",
       "MasVnrType       0.822199\n",
       "MiscFeature     96.402878\n",
       "PoolQC          99.657417\n",
       "SalePrice       49.982871\n",
       "SaleType         0.034258\n",
       "TotalBsmtSF      0.034258\n",
       "Utilities        0.068517\n",
       "dtype: float64"
      ]
     },
     "execution_count": 3,
     "metadata": {},
     "output_type": "execute_result"
    }
   ],
   "source": [
    "# Check to see what data has null values\n",
    "nulls= combine.isnull().sum()/len(combine) * 100\n",
    "nulls[nulls > 0]"
   ]
  },
  {
   "cell_type": "markdown",
   "metadata": {},
   "source": [
    "Drop Rows where there are only a few instances of nulls"
   ]
  },
  {
   "cell_type": "code",
   "execution_count": 4,
   "metadata": {},
   "outputs": [
    {
     "data": {
      "text/plain": [
       "Index(['Alley', 'BsmtCond', 'BsmtExposure', 'BsmtFinSF1', 'BsmtFinSF2',\n",
       "       'BsmtFinType1', 'BsmtFinType2', 'BsmtFullBath', 'BsmtHalfBath',\n",
       "       'BsmtQual', 'BsmtUnfSF', 'Electrical', 'Exterior1st', 'Exterior2nd',\n",
       "       'Fence', 'FireplaceQu', 'Functional', 'GarageArea', 'GarageCars',\n",
       "       'GarageCond', 'GarageFinish', 'GarageQual', 'GarageType', 'GarageYrBlt',\n",
       "       'KitchenQual', 'LotFrontage', 'MSZoning', 'MasVnrArea', 'MasVnrType',\n",
       "       'MiscFeature', 'PoolQC', 'SalePrice', 'SaleType', 'TotalBsmtSF',\n",
       "       'Utilities'],\n",
       "      dtype='object')"
      ]
     },
     "execution_count": 4,
     "metadata": {},
     "output_type": "execute_result"
    }
   ],
   "source": [
    "nulls[nulls > 0].index"
   ]
  },
  {
   "cell_type": "code",
   "execution_count": 5,
   "metadata": {},
   "outputs": [],
   "source": [
    "# Take care of null values\n",
    "\n",
    "# Lot Frontage is repalced with median\n",
    "combine['LotFrontage'].fillna(combine['LotFrontage'].median(), inplace=True)\n",
    "\n",
    "# Alley way nulls are replaced with \"None\"\n",
    "combine['Alley'].fillna('none',inplace=True)\n",
    "\n",
    "# Garage Year Built is replaced with yearbuilt if it is null\n",
    "combine['GarageYrBlt'].fillna(train['YearBuilt'], inplace=True)\n",
    "\n",
    "# Fill MasVnrARea with 0 and msnvnr type with none\n",
    "combine['MasVnrArea'].fillna(0, inplace=True)\n",
    "combine['MasVnrType'].fillna('none',inplace=True)\n",
    "\n",
    "# Change basement values to none\n",
    "combine['BsmtQual'].fillna('none',inplace=True)\n",
    "combine['BsmtCond'].fillna('none',inplace=True)\n",
    "combine['BsmtExposure'].fillna('none',inplace=True)\n",
    "combine['BsmtFinType1'].fillna('none',inplace=True)\n",
    "combine['BsmtFinType2'].fillna('none',inplace=True)\n",
    "\n",
    "# Electrical replace with mode\n",
    "combine['Electrical'].fillna(train['Electrical'].mode()[0], inplace=True)\n",
    "\n",
    "# Replace nulls with none for fireplace\n",
    "combine['FireplaceQu'].fillna('none',inplace=True)\n",
    "\n",
    "# Replace nulls with none for garage attributes\n",
    "combine['GarageType'].fillna('none',inplace=True)\n",
    "combine['GarageFinish'].fillna('none',inplace=True)\n",
    "combine['GarageQual'].fillna('none',inplace=True)\n",
    "combine['GarageCond'].fillna('none',inplace=True)\n",
    "\n",
    "# PoolQC nulls filled with none\n",
    "combine['PoolQC'].fillna('none',inplace=True)\n",
    "\n",
    "# Fence nulls filled with none\n",
    "combine['Fence'].fillna('none',inplace=True)\n",
    "\n",
    "# Miscellaneious feature nulls filled with none\n",
    "combine['MiscFeature'].fillna('none',inplace=True)\n",
    "\n",
    "# Others:\n",
    "combine['Utilities'].fillna(combine['Utilities'].mode()[0], inplace=True)\n",
    "combine['Exterior1st'].fillna(combine['Exterior1st'].mode()[0], inplace=True)\n",
    "combine['Exterior2nd'].fillna(combine['Exterior2nd'].mode()[0], inplace=True)\n",
    "combine['KitchenQual'].fillna(combine['KitchenQual'].mode()[0], inplace=True)\n",
    "combine['SaleType'].fillna(combine['SaleType'].mode()[0], inplace=True)\n",
    "combine['Functional'].fillna(combine['Functional'].mode()[0], inplace=True)\n",
    "combine['MSZoning'].fillna(combine['MSZoning'].mode()[0], inplace=True)\n",
    "combine['BsmtFinSF1'].fillna(combine['BsmtFinSF1'].median(), inplace=True)\n",
    "combine['BsmtFullBath'].fillna(combine['BsmtFullBath'].median(), inplace=True)\n",
    "combine['GarageCars'].fillna(combine['GarageCars'].mode()[0], inplace=True)\n",
    "combine['BsmtFinSF2'].fillna(combine['BsmtFinSF2'].median(), inplace=True)\n",
    "combine['BsmtHalfBath'].fillna(combine['BsmtHalfBath'].median(), inplace=True)\n",
    "combine['GarageArea'].fillna(combine['GarageArea'].mode()[0], inplace=True)\n",
    "combine['BsmtUnfSF'].fillna(combine['BsmtUnfSF'].median(), inplace=True)\n",
    "combine['TotalBsmtSF'].fillna(combine['TotalBsmtSF'].median(), inplace=True)"
   ]
  },
  {
   "cell_type": "code",
   "execution_count": 6,
   "metadata": {},
   "outputs": [
    {
     "name": "stdout",
     "output_type": "stream",
     "text": [
      "SalePrice    49.982871\n",
      "dtype: float64\n"
     ]
    }
   ],
   "source": [
    "# Check nulls again\n",
    "nulls= combine.isnull().sum()/len(combine) * 100\n",
    "print(nulls[nulls > 0])"
   ]
  },
  {
   "cell_type": "code",
   "execution_count": 7,
   "metadata": {},
   "outputs": [],
   "source": [
    "#Split Training data\n",
    "train = combine[combine['SalePrice'].notnull()]"
   ]
  },
  {
   "cell_type": "code",
   "execution_count": 8,
   "metadata": {},
   "outputs": [
    {
     "data": {
      "image/png": "[encoded data removed]",
      "text/plain": [
       "<Figure size 1152x720 with 7 Axes>"
      ]
     },
     "metadata": {
      "needs_background": "light"
     },
     "output_type": "display_data"
    }
   ],
   "source": [
    "# Check Distrbutions for ouliers numerical data\n",
    "plt.figure(figsize= (16,10))\n",
    "fig= plt.subplot\n",
    "plt.subplots_adjust(hspace = 0.4)\n",
    "plt.subplot(421)\n",
    "sns.distplot(train['TotalBsmtSF'])\n",
    "\n",
    "\n",
    "plt.subplot(422)\n",
    "sns.distplot(train['1stFlrSF'])\n",
    "\n",
    "\n",
    "plt.subplot(423)\n",
    "sns.distplot(train['MasVnrArea'])\n",
    "\n",
    "\n",
    "plt.subplot(424)\n",
    "sns.distplot(train['LotFrontage'])\n",
    "\n",
    "\n",
    "plt.subplot(425)\n",
    "sns.distplot(train['WoodDeckSF'])\n",
    "\n",
    "\n",
    "plt.subplot(426)\n",
    "sns.distplot(train['2ndFlrSF'])\n",
    "\n",
    "\n",
    "plt.subplot(427)\n",
    "sns.distplot(train['OpenPorchSF'])\n",
    "\n",
    "\n",
    "\n",
    "plt.show()"
   ]
  },
  {
   "cell_type": "code",
   "execution_count": 9,
   "metadata": {},
   "outputs": [],
   "source": [
    "#Based on distributions apply normalization:\n",
    "\n",
    "#TotalBsmtSF\n",
    "# Whether there is a basement or not is significant so we will make this its own column\n",
    "#combine['TotalBsmtSF_Y'] = np.where(combine['TotalBsmtSF'] > 0, 1, 0)\n",
    "combine['TotalBsmtSF'] = combine['TotalBsmtSF'] + 1\n",
    "combine['TotalBsmtSF'] = np.log(combine['TotalBsmtSF'])\n",
    "\n",
    "#1stFlrSF\n",
    "combine['1stFlrSF'] = np.log(combine['1stFlrSF'])\n",
    "\n",
    "#MasVnRArea\n",
    "# Whether there is a Masonry Vaneer or not is significant so we will make this its own column\n",
    "#combine['MasVnrArea_Y'] = np.where(combine['MasVnrArea'] > 0, 1, 0)\n",
    "combine['MasVnrArea'] = combine['MasVnrArea'] + 1\n",
    "combine['MasVnrArea'] = np.log(combine['MasVnrArea'])\n",
    "                               \n",
    "#LotFrontage\n",
    "combine['LotFrontage'] = np.log(combine['LotFrontage'])                               \n",
    "\n",
    "#WoodDeckSF\n",
    "# Whether there is a deck or not is significant so we will make this its own column\n",
    "#combine['WoodDeckSF_Y'] = np.where(combine['WoodDeckSF'] > 0, 1, 0)\n",
    "combine['WoodDeckSF'] = combine['WoodDeckSF'] + 1\n",
    "combine['WoodDeckSF'] = np.log(combine['WoodDeckSF'])\n",
    "                               \n",
    "#2ndFlrSF\n",
    "# Whether there is a second floor or not is significant so we will make this its own column\n",
    "#combine['2ndFlrSF_Y'] = np.where(combine['2ndFlrSF'] > 0, 1, 0)\n",
    "combine['2ndFlrSF'] = combine['2ndFlrSF'] + 1\n",
    "combine['2ndFlrSF'] = np.log(combine['2ndFlrSF'])\n",
    "                             \n",
    "#OpenPorchSF\n",
    "# Whether there is a deck or not is significant so we will make this its own column\n",
    "#combine['OpenPorchSF_Y'] = np.where(combine['OpenPorchSF'] > 0, 1, 0)\n",
    "combine['OpenPorchSF'] = combine['OpenPorchSF'] + 1\n",
    "combine['OpenPorchSF'] = np.log(combine['OpenPorchSF'])"
   ]
  },
  {
   "cell_type": "markdown",
   "metadata": {},
   "source": [
    "# Use New Categorical Encoder Package"
   ]
  },
  {
   "cell_type": "code",
   "execution_count": 10,
   "metadata": {},
   "outputs": [
    {
     "name": "stderr",
     "output_type": "stream",
     "text": [
      "/Users/adam/projects/CategoricalVariableEncoder/DSHelper/CatEncoder.py:39: SettingWithCopyWarning: \n",
      "A value is trying to be set on a copy of a slice from a DataFrame.\n",
      "Try using .loc[row_indexer,col_indexer] = value instead\n",
      "\n",
      "See the caveats in the documentation: https://pandas.pydata.org/pandas-docs/stable/user_guide/indexing.html#returning-a-view-versus-a-copy\n",
      "  df_train[col] = df_train[col].map(replacements)\n",
      "/Users/adam/projects/CategoricalVariableEncoder/DSHelper/CatEncoder.py:44: SettingWithCopyWarning: \n",
      "A value is trying to be set on a copy of a slice from a DataFrame.\n",
      "Try using .loc[row_indexer,col_indexer] = value instead\n",
      "\n",
      "See the caveats in the documentation: https://pandas.pydata.org/pandas-docs/stable/user_guide/indexing.html#returning-a-view-versus-a-copy\n",
      "  df_test[col] = df_test[col].map(categories[col])\n"
     ]
    }
   ],
   "source": [
    "train = combine[combine['SalePrice'].notnull()]\n",
    "test = combine[combine['SalePrice'].isnull()]\n",
    "CatEncoder.GetOrdinal(train,'SalePrice',df_test =test)"
   ]
  },
  {
   "cell_type": "markdown",
   "metadata": {},
   "source": [
    "# Simple Linear Regression\n",
    "The first attempt at predicting prices will be using simple linear regression to get a base result"
   ]
  },
  {
   "cell_type": "code",
   "execution_count": 11,
   "metadata": {},
   "outputs": [
    {
     "name": "stdout",
     "output_type": "stream",
     "text": [
      "MAE: 19547.56939422521\n"
     ]
    }
   ],
   "source": [
    "X = train.drop('SalePrice', axis =1)\n",
    "\n",
    "from sklearn.model_selection import train_test_split\n",
    "x_train, x_cv, y_train, y_cv = train_test_split(X,y, test_size =0.20)\n",
    "\n",
    "# Fitting multiple linear regression to training set\n",
    "from sklearn.linear_model import LinearRegression\n",
    "model_linReg = LinearRegression()\n",
    "model_linReg.fit(x_train,y_train)\n",
    "\n",
    "# Fit forest regssiotn to training set\n",
    "y_pred = model_linReg.predict(x_cv)\n",
    "\n",
    "import sklearn.metrics as met\n",
    "print(f\"MAE: {met.mean_absolute_error(y_cv,y_pred)}\")"
   ]
  },
  {
   "cell_type": "markdown",
   "metadata": {},
   "source": [
    "# Random Forest Regression\n",
    "<p>"
   ]
  },
  {
   "cell_type": "code",
   "execution_count": 12,
   "metadata": {},
   "outputs": [
    {
     "name": "stdout",
     "output_type": "stream",
     "text": [
      "MAE: 17628.091500000002\n"
     ]
    }
   ],
   "source": [
    "# Since we are using Random Forest keep all attributes\n",
    "X = train.drop('SalePrice', axis =1)\n",
    "\n",
    "#Create model and test to see how well it works so far\n",
    "from sklearn.model_selection import train_test_split\n",
    "x_train, x_test, y_train, y_test = train_test_split(X,y, test_size =0.20)\n",
    "\n",
    "# Fit forest regssiotn to training set\n",
    "# Fitting Random Forest Regression to the dataset\n",
    "from sklearn.ensemble import RandomForestRegressor\n",
    "model_forest = RandomForestRegressor(n_estimators = 500)\n",
    "model_forest.fit(x_train,y_train)\n",
    "\n",
    "# Predict for Y\n",
    "y_pred = model_forest.predict(x_test)\n",
    "\n",
    "print(f\"MAE: {met.mean_absolute_error(y_test,y_pred)}\")\n"
   ]
  },
  {
   "cell_type": "code",
   "execution_count": 13,
   "metadata": {},
   "outputs": [
    {
     "name": "stdout",
     "output_type": "stream",
     "text": [
      "Fitting 3 folds for each of 400 candidates, totalling 1200 fits\n"
     ]
    },
    {
     "name": "stderr",
     "output_type": "stream",
     "text": [
      "[Parallel(n_jobs=-1)]: Using backend LokyBackend with 4 concurrent workers.\n",
      "[Parallel(n_jobs=-1)]: Done  42 tasks      | elapsed:   19.2s\n",
      "[Parallel(n_jobs=-1)]: Done 192 tasks      | elapsed:  1.4min\n",
      "[Parallel(n_jobs=-1)]: Done 442 tasks      | elapsed:  3.3min\n",
      "[Parallel(n_jobs=-1)]: Done 792 tasks      | elapsed:  6.3min\n",
      "[Parallel(n_jobs=-1)]: Done 1200 out of 1200 | elapsed:  9.7min finished\n"
     ]
    }
   ],
   "source": [
    "# Tune for better results\n",
    "\n",
    "from sklearn.model_selection import GridSearchCV\n",
    "\n",
    "# HyperTuning - Exhaust all options to try to understand which parameters work best when using random forest\n",
    "n_estimators = [10, 100, 300, 500]\n",
    "max_depth = [5, 8, 15, 25, 30]\n",
    "min_samples_split = [2, 5, 10, 15, 100]\n",
    "min_samples_leaf = [1, 2, 5, 10] \n",
    "\n",
    "hyperF = dict(n_estimators = n_estimators, max_depth = max_depth,  \n",
    "              min_samples_split = min_samples_split, \n",
    "             min_samples_leaf = min_samples_leaf)\n",
    "\n",
    "gridF = GridSearchCV(model_forest, hyperF, cv = 3, verbose = 1, \n",
    "                      n_jobs = -1)\n",
    "\n",
    "#Fit the best performing parameters to the data\n",
    "bestF = gridF.fit(x_train, y_train)\n"
   ]
  },
  {
   "cell_type": "code",
   "execution_count": 14,
   "metadata": {},
   "outputs": [
    {
     "name": "stdout",
     "output_type": "stream",
     "text": [
      "Test MAE: 17591.30881354052 \n",
      "Train MAE: 7051.299616032031\n"
     ]
    }
   ],
   "source": [
    "# Print the Training Set Accuracy and the Test Set Accuracy in order to understand overfitting\n",
    "y_pred = bestF.predict(x_test)\n",
    "y_pred_train = gridF.predict(x_train)\n",
    "print(f\"Test MAE: {met.mean_absolute_error(y_test,y_pred)} \\nTrain MAE: {met.mean_absolute_error(y_train,y_pred_train)}\")"
   ]
  },
  {
   "cell_type": "markdown",
   "metadata": {},
   "source": [
    "# XGBoost\n",
    "<p>"
   ]
  },
  {
   "cell_type": "code",
   "execution_count": 15,
   "metadata": {},
   "outputs": [
    {
     "name": "stdout",
     "output_type": "stream",
     "text": [
      "MAE: 15303.393608197774\n"
     ]
    }
   ],
   "source": [
    "import xgboost as xgb\n",
    "\n",
    "xg_reg = xgb.XGBRegressor(objective = \"reg:squarederror\",\n",
    "        gamma=1,\n",
    "        max_depth=4, #default=6\n",
    "        min_child_weight=1, #default=1\n",
    "        subsample=1,\n",
    "        colsample_bytree=.5,\n",
    "        n_estimators = 1000,\n",
    "        learning_rate = .1  )\n",
    "\n",
    "xg_reg.fit(x_train,y_train)\n",
    "\n",
    "pred_xgb = xg_reg.predict(x_test)\n",
    "\n",
    "print(f\"MAE: {met.mean_absolute_error(y_test,pred_xgb)}\")"
   ]
  },
  {
   "cell_type": "markdown",
   "metadata": {},
   "source": [
    "# Neural Network - Basic Sklearn\n",
    "\n",
    "<p>"
   ]
  },
  {
   "cell_type": "code",
   "execution_count": 16,
   "metadata": {},
   "outputs": [
    {
     "name": "stdout",
     "output_type": "stream",
     "text": [
      "Adam: 30691.30259481876\n"
     ]
    }
   ],
   "source": [
    "# Try all 3 solvers for Neural Networks\n",
    "from sklearn.neural_network import MLPRegressor\n",
    "#Adam\n",
    "MLP = MLPRegressor(solver = 'adam', hidden_layer_sizes = 292)\n",
    "MLP.fit(x_train,y_train)\n",
    "pred_MLP = MLP.predict(x_test)\n",
    "adam_score = met.mean_absolute_error(y_test,pred_MLP)\n",
    "# Print out how accuracy of each method in order to pick which ones will be used\n",
    "print(f\"Adam: {adam_score}\")"
   ]
  },
  {
   "cell_type": "markdown",
   "metadata": {},
   "source": [
    "# Neural Network - Tensor Flow 2.0\n",
    "\n",
    "<p>"
   ]
  },
  {
   "cell_type": "code",
   "execution_count": 17,
   "metadata": {},
   "outputs": [],
   "source": [
    "from tensorflow.keras.models import Sequential\n",
    "from tensorflow.keras.layers import Dense, Activation, Dropout\n",
    "from tensorflow.keras.optimizers import Adam"
   ]
  },
  {
   "cell_type": "code",
   "execution_count": 18,
   "metadata": {},
   "outputs": [],
   "source": [
    "model = Sequential()\n",
    "\n",
    "model.add(Dense(261,activation='relu'))\n",
    "model.add(Dropout(0.1))\n",
    "model.add(Dense(230,activation='relu'))\n",
    "model.add(Dropout(0.1))\n",
    "model.add(Dense(65,activation='relu'))\n",
    "model.add(Dropout(0.1))\n",
    "model.add(Dense(32,activation='relu'))\n",
    "model.add(Dense(1)) # output layer\n",
    "\n",
    "model.compile(optimizer='adam',loss='mse')"
   ]
  },
  {
   "cell_type": "code",
   "execution_count": 19,
   "metadata": {},
   "outputs": [
    {
     "name": "stdout",
     "output_type": "stream",
     "text": [
      "WARNING:tensorflow:Layer dense is casting an input tensor from dtype float64 to the layer's dtype of float32, which is new behavior in TensorFlow 2.  The layer has dtype float32 because it's dtype defaults to floatx.\n",
      "\n",
      "If you intended to run this layer in float32, you can safely ignore this warning. If in doubt, this warning is likely only an issue if you are porting a TensorFlow 1.X model to TensorFlow 2.\n",
      "\n",
      "To change all layers to have dtype float64 by default, call `tf.keras.backend.set_floatx('float64')`. To change just this layer, pass dtype='float64' to the layer constructor. If you are the author of this layer, you can disable autocasting by passing autocast=False to the base Layer constructor.\n",
      "\n"
     ]
    },
    {
     "data": {
      "text/plain": [
       "<tensorflow.python.keras.callbacks.History at 0x14933cf40>"
      ]
     },
     "execution_count": 19,
     "metadata": {},
     "output_type": "execute_result"
    }
   ],
   "source": [
    "from tensorflow.keras.callbacks import EarlyStopping\n",
    "early_stop = EarlyStopping(monitor='val_loss', mode='min', patience=30)\n",
    "model.fit(x=x_train.values,y=y_train.values,\n",
    "          validation_data=(x_test,y_test.values),  # tracks loss on both training data and test data\n",
    "          callbacks=[early_stop],\n",
    "          verbose = 0,\n",
    "          epochs=500)"
   ]
  },
  {
   "cell_type": "code",
   "execution_count": 20,
   "metadata": {},
   "outputs": [
    {
     "data": {
      "text/plain": [
       "<AxesSubplot:>"
      ]
     },
     "execution_count": 20,
     "metadata": {},
     "output_type": "execute_result"
    },
    {
     "data": {
      "image/png": "[encoded data removed]",
      "text/plain": [
       "<Figure size 432x288 with 1 Axes>"
      ]
     },
     "metadata": {
      "needs_background": "light"
     },
     "output_type": "display_data"
    }
   ],
   "source": [
    "losses = pd.DataFrame(model.history.history) \n",
    "losses.plot()"
   ]
  },
  {
   "cell_type": "code",
   "execution_count": 21,
   "metadata": {},
   "outputs": [
    {
     "data": {
      "text/plain": [
       "45919.878438035106"
      ]
     },
     "execution_count": 21,
     "metadata": {},
     "output_type": "execute_result"
    }
   ],
   "source": [
    "predictions = model.predict(x_test)\n",
    "met.mean_absolute_error(y_test,predictions)"
   ]
  },
  {
   "cell_type": "code",
   "execution_count": 22,
   "metadata": {},
   "outputs": [
    {
     "name": "stderr",
     "output_type": "stream",
     "text": [
      "/usr/local/lib/python3.8/site-packages/pandas/core/frame.py:3990: SettingWithCopyWarning: \n",
      "A value is trying to be set on a copy of a slice from a DataFrame\n",
      "\n",
      "See the caveats in the documentation: https://pandas.pydata.org/pandas-docs/stable/user_guide/indexing.html#returning-a-view-versus-a-copy\n",
      "  return super().drop(\n"
     ]
    }
   ],
   "source": [
    "#Fit model to test set\n",
    "test.drop('SalePrice',inplace = True, axis =1)\n",
    "\n",
    "pred_RF = bestF.predict(test)\n",
    "pred_NN = MLP.predict(test)\n",
    "#pred_LG = model_linReg.predict(test_linReg)\n",
    "pred_XG = xg_reg.predict(test)\n",
    "pred_TF = model.predict(test)\n"
   ]
  },
  {
   "cell_type": "markdown",
   "metadata": {},
   "source": [
    "# Print Outputs to Test on Kaggle\n",
    "\n",
    "<p>"
   ]
  },
  {
   "cell_type": "code",
   "execution_count": 23,
   "metadata": {},
   "outputs": [],
   "source": [
    "# Creaete Table\n",
    "output_RF = pd.DataFrame( { 'id': test_ids['Id'], 'SalePrice': pred_RF} )\n",
    "\n",
    "output_NN = pd.DataFrame( { 'id': test_ids['Id'], 'SalePrice': pred_NN} )\n",
    "\n",
    "#output_LG = pd.DataFrame( { 'id': test_ids['Id'], 'SalePrice': pred_LG} )\n",
    "\n",
    "output_XG = pd.DataFrame( { 'id': test_ids['Id'], 'SalePrice': pred_XG} )\n",
    "\n",
    "output_TF = pd.DataFrame( { 'id': test_ids['Id'], 'SalePrice': pred_TF.ravel()} )\n"
   ]
  },
  {
   "cell_type": "code",
   "execution_count": 24,
   "metadata": {},
   "outputs": [],
   "source": [
    "output_NN.to_csv('SupportingFiles/LG_submission.csv',index = False)\n",
    "output_NN.to_csv('SupportingFiles/NN_submission.csv',index = False)\n",
    "output_RF.to_csv('SupportingFiles/RF_submission.csv',index = False)\n",
    "output_XG.to_csv('SupportingFiles/XG_submission.csv',index = False)\n",
    "output_TF.to_csv('SupportingFiles/TF_submission.csv',index = False)"
   ]
  }
 ],
 "metadata": {
  "kernelspec": {
   "display_name": "Python 3",
   "language": "python",
   "name": "python3"
  },
  "language_info": {
   "codemirror_mode": {
    "name": "ipython",
    "version": 3
   },
   "file_extension": ".py",
   "mimetype": "text/x-python",
   "name": "python",
   "nbconvert_exporter": "python",
   "pygments_lexer": "ipython3",
   "version": "3.8.4"
  }
 },
 "nbformat": 4,
 "nbformat_minor": 2
}
