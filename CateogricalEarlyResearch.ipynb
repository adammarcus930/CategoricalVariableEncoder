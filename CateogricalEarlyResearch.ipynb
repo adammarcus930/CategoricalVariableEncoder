{
 "cells": [
  {
   "cell_type": "code",
   "execution_count": 1,
   "metadata": {},
   "outputs": [],
   "source": [
    "import pandas as pd\n",
    "import numpy as np\n",
    "import seaborn as sns\n",
    "import os\n",
    "os.environ['TF_CPP_MIN_LOG_LEVEL'] = '3'"
   ]
  },
  {
   "cell_type": "code",
   "execution_count": 2,
   "metadata": {},
   "outputs": [],
   "source": [
    "df_train = pd.read_csv('SupportingFiles/train.csv')\n",
    "df_test = pd.read_csv('SupportingFiles/test.csv')"
   ]
  },
  {
   "cell_type": "code",
   "execution_count": 3,
   "metadata": {},
   "outputs": [
    {
     "data": {
      "text/html": [
       "<div>\n",
       "<style scoped>\n",
       "    .dataframe tbody tr th:only-of-type {\n",
       "        vertical-align: middle;\n",
       "    }\n",
       "\n",
       "    .dataframe tbody tr th {\n",
       "        vertical-align: top;\n",
       "    }\n",
       "\n",
       "    .dataframe thead th {\n",
       "        text-align: right;\n",
       "    }\n",
       "</style>\n",
       "<table border=\"1\" class=\"dataframe\">\n",
       "  <thead>\n",
       "    <tr style=\"text-align: right;\">\n",
       "      <th></th>\n",
       "      <th>id</th>\n",
       "      <th>bin_0</th>\n",
       "      <th>bin_1</th>\n",
       "      <th>bin_2</th>\n",
       "      <th>bin_3</th>\n",
       "      <th>bin_4</th>\n",
       "      <th>nom_0</th>\n",
       "      <th>nom_1</th>\n",
       "      <th>nom_2</th>\n",
       "      <th>nom_3</th>\n",
       "      <th>...</th>\n",
       "      <th>nom_9</th>\n",
       "      <th>ord_0</th>\n",
       "      <th>ord_1</th>\n",
       "      <th>ord_2</th>\n",
       "      <th>ord_3</th>\n",
       "      <th>ord_4</th>\n",
       "      <th>ord_5</th>\n",
       "      <th>day</th>\n",
       "      <th>month</th>\n",
       "      <th>target</th>\n",
       "    </tr>\n",
       "  </thead>\n",
       "  <tbody>\n",
       "    <tr>\n",
       "      <th>0</th>\n",
       "      <td>0</td>\n",
       "      <td>0</td>\n",
       "      <td>0</td>\n",
       "      <td>0</td>\n",
       "      <td>T</td>\n",
       "      <td>Y</td>\n",
       "      <td>Green</td>\n",
       "      <td>Triangle</td>\n",
       "      <td>Snake</td>\n",
       "      <td>Finland</td>\n",
       "      <td>...</td>\n",
       "      <td>2f4cb3d51</td>\n",
       "      <td>2</td>\n",
       "      <td>Grandmaster</td>\n",
       "      <td>Cold</td>\n",
       "      <td>h</td>\n",
       "      <td>D</td>\n",
       "      <td>kr</td>\n",
       "      <td>2</td>\n",
       "      <td>2</td>\n",
       "      <td>0</td>\n",
       "    </tr>\n",
       "    <tr>\n",
       "      <th>1</th>\n",
       "      <td>1</td>\n",
       "      <td>0</td>\n",
       "      <td>1</td>\n",
       "      <td>0</td>\n",
       "      <td>T</td>\n",
       "      <td>Y</td>\n",
       "      <td>Green</td>\n",
       "      <td>Trapezoid</td>\n",
       "      <td>Hamster</td>\n",
       "      <td>Russia</td>\n",
       "      <td>...</td>\n",
       "      <td>f83c56c21</td>\n",
       "      <td>1</td>\n",
       "      <td>Grandmaster</td>\n",
       "      <td>Hot</td>\n",
       "      <td>a</td>\n",
       "      <td>A</td>\n",
       "      <td>bF</td>\n",
       "      <td>7</td>\n",
       "      <td>8</td>\n",
       "      <td>0</td>\n",
       "    </tr>\n",
       "    <tr>\n",
       "      <th>2</th>\n",
       "      <td>2</td>\n",
       "      <td>0</td>\n",
       "      <td>0</td>\n",
       "      <td>0</td>\n",
       "      <td>F</td>\n",
       "      <td>Y</td>\n",
       "      <td>Blue</td>\n",
       "      <td>Trapezoid</td>\n",
       "      <td>Lion</td>\n",
       "      <td>Russia</td>\n",
       "      <td>...</td>\n",
       "      <td>ae6800dd0</td>\n",
       "      <td>1</td>\n",
       "      <td>Expert</td>\n",
       "      <td>Lava Hot</td>\n",
       "      <td>h</td>\n",
       "      <td>R</td>\n",
       "      <td>Jc</td>\n",
       "      <td>7</td>\n",
       "      <td>2</td>\n",
       "      <td>0</td>\n",
       "    </tr>\n",
       "    <tr>\n",
       "      <th>3</th>\n",
       "      <td>3</td>\n",
       "      <td>0</td>\n",
       "      <td>1</td>\n",
       "      <td>0</td>\n",
       "      <td>F</td>\n",
       "      <td>Y</td>\n",
       "      <td>Red</td>\n",
       "      <td>Trapezoid</td>\n",
       "      <td>Snake</td>\n",
       "      <td>Canada</td>\n",
       "      <td>...</td>\n",
       "      <td>8270f0d71</td>\n",
       "      <td>1</td>\n",
       "      <td>Grandmaster</td>\n",
       "      <td>Boiling Hot</td>\n",
       "      <td>i</td>\n",
       "      <td>D</td>\n",
       "      <td>kW</td>\n",
       "      <td>2</td>\n",
       "      <td>1</td>\n",
       "      <td>1</td>\n",
       "    </tr>\n",
       "    <tr>\n",
       "      <th>4</th>\n",
       "      <td>4</td>\n",
       "      <td>0</td>\n",
       "      <td>0</td>\n",
       "      <td>0</td>\n",
       "      <td>F</td>\n",
       "      <td>N</td>\n",
       "      <td>Red</td>\n",
       "      <td>Trapezoid</td>\n",
       "      <td>Lion</td>\n",
       "      <td>Canada</td>\n",
       "      <td>...</td>\n",
       "      <td>b164b72a7</td>\n",
       "      <td>1</td>\n",
       "      <td>Grandmaster</td>\n",
       "      <td>Freezing</td>\n",
       "      <td>a</td>\n",
       "      <td>R</td>\n",
       "      <td>qP</td>\n",
       "      <td>7</td>\n",
       "      <td>8</td>\n",
       "      <td>0</td>\n",
       "    </tr>\n",
       "  </tbody>\n",
       "</table>\n",
       "<p>5 rows × 25 columns</p>\n",
       "</div>"
      ],
      "text/plain": [
       "   id  bin_0  bin_1  bin_2 bin_3 bin_4  nom_0      nom_1    nom_2    nom_3  \\\n",
       "0   0      0      0      0     T     Y  Green   Triangle    Snake  Finland   \n",
       "1   1      0      1      0     T     Y  Green  Trapezoid  Hamster   Russia   \n",
       "2   2      0      0      0     F     Y   Blue  Trapezoid     Lion   Russia   \n",
       "3   3      0      1      0     F     Y    Red  Trapezoid    Snake   Canada   \n",
       "4   4      0      0      0     F     N    Red  Trapezoid     Lion   Canada   \n",
       "\n",
       "   ...      nom_9 ord_0        ord_1        ord_2 ord_3 ord_4  ord_5 day  \\\n",
       "0  ...  2f4cb3d51     2  Grandmaster         Cold     h     D     kr   2   \n",
       "1  ...  f83c56c21     1  Grandmaster          Hot     a     A     bF   7   \n",
       "2  ...  ae6800dd0     1       Expert     Lava Hot     h     R     Jc   7   \n",
       "3  ...  8270f0d71     1  Grandmaster  Boiling Hot     i     D     kW   2   \n",
       "4  ...  b164b72a7     1  Grandmaster     Freezing     a     R     qP   7   \n",
       "\n",
       "  month target  \n",
       "0     2      0  \n",
       "1     8      0  \n",
       "2     2      0  \n",
       "3     1      1  \n",
       "4     8      0  \n",
       "\n",
       "[5 rows x 25 columns]"
      ]
     },
     "execution_count": 3,
     "metadata": {},
     "output_type": "execute_result"
    }
   ],
   "source": [
    "# Take a look at what we are working with\n",
    "df_train.head(5)"
   ]
  },
  {
   "cell_type": "code",
   "execution_count": 4,
   "metadata": {},
   "outputs": [
    {
     "name": "stdout",
     "output_type": "stream",
     "text": [
      "<class 'pandas.core.frame.DataFrame'>\n",
      "RangeIndex: 300000 entries, 0 to 299999\n",
      "Data columns (total 25 columns):\n",
      " #   Column  Non-Null Count   Dtype \n",
      "---  ------  --------------   ----- \n",
      " 0   id      300000 non-null  int64 \n",
      " 1   bin_0   300000 non-null  int64 \n",
      " 2   bin_1   300000 non-null  int64 \n",
      " 3   bin_2   300000 non-null  int64 \n",
      " 4   bin_3   300000 non-null  object\n",
      " 5   bin_4   300000 non-null  object\n",
      " 6   nom_0   300000 non-null  object\n",
      " 7   nom_1   300000 non-null  object\n",
      " 8   nom_2   300000 non-null  object\n",
      " 9   nom_3   300000 non-null  object\n",
      " 10  nom_4   300000 non-null  object\n",
      " 11  nom_5   300000 non-null  object\n",
      " 12  nom_6   300000 non-null  object\n",
      " 13  nom_7   300000 non-null  object\n",
      " 14  nom_8   300000 non-null  object\n",
      " 15  nom_9   300000 non-null  object\n",
      " 16  ord_0   300000 non-null  int64 \n",
      " 17  ord_1   300000 non-null  object\n",
      " 18  ord_2   300000 non-null  object\n",
      " 19  ord_3   300000 non-null  object\n",
      " 20  ord_4   300000 non-null  object\n",
      " 21  ord_5   300000 non-null  object\n",
      " 22  day     300000 non-null  int64 \n",
      " 23  month   300000 non-null  int64 \n",
      " 24  target  300000 non-null  int64 \n",
      "dtypes: int64(8), object(17)\n",
      "memory usage: 57.2+ MB\n"
     ]
    }
   ],
   "source": [
    "df_train.info()"
   ]
  },
  {
   "cell_type": "code",
   "execution_count": 5,
   "metadata": {},
   "outputs": [
    {
     "data": {
      "text/plain": [
       "<AxesSubplot:xlabel='target', ylabel='count'>"
      ]
     },
     "execution_count": 5,
     "metadata": {},
     "output_type": "execute_result"
    },
    {
     "data": {
      "image/png": "[encoded data removed]",
      "text/plain": [
       "<Figure size 432x288 with 1 Axes>"
      ]
     },
     "metadata": {
      "needs_background": "light"
     },
     "output_type": "display_data"
    }
   ],
   "source": [
    "# Count plot to see how the target classification is distributed\n",
    "sns.countplot(x='target',data=df_train)"
   ]
  },
  {
   "cell_type": "markdown",
   "metadata": {},
   "source": [
    "Although it's not evenly distributed, the target is binary making it easy to apply our method. "
   ]
  },
  {
   "cell_type": "markdown",
   "metadata": {},
   "source": [
    "# Build Models Using Get Dummies on Every Column"
   ]
  },
  {
   "cell_type": "code",
   "execution_count": 6,
   "metadata": {},
   "outputs": [],
   "source": [
    "# Combine test and train in order to ensure they have the same columns from get_dummies\n",
    "# Note: This is a short coming of get_dummies, this method is a popular one but can cause leakage\n",
    "df_train['IsTrain'] = 1\n",
    "df_test['IsTrain'] = 0\n",
    "df_full = pd.concat([df_train,df_test])\n",
    "\n",
    "# Save Test IDs for later\n",
    "test_ids = df_test['id']"
   ]
  },
  {
   "cell_type": "code",
   "execution_count": 7,
   "metadata": {},
   "outputs": [
    {
     "name": "stdout",
     "output_type": "stream",
     "text": [
      "id\n",
      "nom_6\n",
      "nom_7\n",
      "nom_8\n",
      "nom_9\n"
     ]
    }
   ],
   "source": [
    "# Drop any column with more than 50 unique items it will be too hard to use dummy variables on them\n",
    "for col in  df_full.columns:\n",
    "    if len(df_full[col].unique()) > 300:\n",
    "        df_full.drop(col, axis =1, inplace = True)\n",
    "        print (col)\n",
    "        \n",
    "# Get Dummies on the rest of the columns left over\n",
    "df_full = pd.get_dummies(df_full, drop_first = True)"
   ]
  },
  {
   "cell_type": "code",
   "execution_count": 8,
   "metadata": {},
   "outputs": [
    {
     "data": {
      "text/plain": [
       "490"
      ]
     },
     "execution_count": 8,
     "metadata": {},
     "output_type": "execute_result"
    }
   ],
   "source": [
    "len(df_full.columns)"
   ]
  },
  {
   "cell_type": "markdown",
   "metadata": {},
   "source": [
    "The amount of columns created from get dummies is extremley high but these extreme cases are what we are trying to test."
   ]
  },
  {
   "cell_type": "code",
   "execution_count": 9,
   "metadata": {},
   "outputs": [
    {
     "name": "stderr",
     "output_type": "stream",
     "text": [
      "/usr/local/lib/python3.8/site-packages/pandas/core/frame.py:3990: SettingWithCopyWarning: \n",
      "A value is trying to be set on a copy of a slice from a DataFrame\n",
      "\n",
      "See the caveats in the documentation: https://pandas.pydata.org/pandas-docs/stable/user_guide/indexing.html#returning-a-view-versus-a-copy\n",
      "  return super().drop(\n"
     ]
    }
   ],
   "source": [
    "# Split the data back out\n",
    "df_train = df_full[df_full['IsTrain']==1]\n",
    "df_train.drop('IsTrain', axis = 1,inplace = True)\n",
    "df_test = df_full[df_full['IsTrain']==0]\n",
    "df_test.drop('IsTrain', axis = 1, inplace = True)\n",
    "df_test.drop('target',axis = 1, inplace=True)"
   ]
  },
  {
   "cell_type": "code",
   "execution_count": 10,
   "metadata": {},
   "outputs": [],
   "source": [
    "# Split out independent varialbles\n",
    "y = df_train['target']\n",
    "X = df_train.drop('target', axis = 1)\n",
    "#X.drop('id',inplace=True,axis = 1)\n",
    "\n",
    "# Save id for the test set and drop it for testing later\n",
    "#df_test.drop('id',axis = 1, inplace = True)"
   ]
  },
  {
   "cell_type": "markdown",
   "metadata": {},
   "source": [
    "## Build Some Basic Models"
   ]
  },
  {
   "cell_type": "code",
   "execution_count": 11,
   "metadata": {},
   "outputs": [],
   "source": [
    "# Split into Test and Train\n",
    "from sklearn.model_selection import train_test_split\n",
    "X_train, X_test, y_train, y_test = train_test_split(X,y, test_size =0.3)"
   ]
  },
  {
   "cell_type": "code",
   "execution_count": 12,
   "metadata": {},
   "outputs": [
    {
     "name": "stdout",
     "output_type": "stream",
     "text": [
      "Logistic Regression AUC: 0.7733943482441041 Random Forest: 0.7262865150502253\n"
     ]
    }
   ],
   "source": [
    "# Train on Logistic Regression & Random Forest\n",
    "from sklearn.linear_model import LogisticRegression\n",
    "from sklearn.ensemble import RandomForestClassifier\n",
    "model_lr = LogisticRegression(max_iter=1000)\n",
    "model_rf = RandomForestClassifier()\n",
    "\n",
    "# Fit to training data\n",
    "model_lr.fit(X_train,y_train)\n",
    "model_rf.fit(X_train,y_train)\n",
    "\n",
    "# Apply to test\n",
    "pred_lr = model_lr.predict_proba(X_test)[:, 1]\n",
    "pred_rf = model_rf.predict_proba(X_test)[:, 1]\n",
    "\n",
    "# Get AUC Score\n",
    "from sklearn.metrics import roc_auc_score\n",
    "print(f\"Logistic Regression AUC: {roc_auc_score(y_test, pred_lr)} Random Forest: {roc_auc_score(y_test, pred_rf)}\")"
   ]
  },
  {
   "cell_type": "markdown",
   "metadata": {},
   "source": [
    "## Build More Complex ML Methods"
   ]
  },
  {
   "cell_type": "code",
   "execution_count": 13,
   "metadata": {},
   "outputs": [
    {
     "name": "stdout",
     "output_type": "stream",
     "text": [
      "XGBoost AUC: 0.7575400325700306\n"
     ]
    }
   ],
   "source": [
    "# XGBoost\n",
    "from xgboost import XGBClassifier\n",
    "model_xg = XGBClassifier()\n",
    "model_xg.fit(X_train,y_train)\n",
    "pred_xg = model_xg.predict_proba(X_test)[:, 1]\n",
    "\n",
    "print(f\"XGBoost AUC: {roc_auc_score(y_test, pred_xg)}\")"
   ]
  },
  {
   "cell_type": "code",
   "execution_count": 14,
   "metadata": {},
   "outputs": [],
   "source": [
    "# Artificial Neural Network (TensofFlow)\n",
    "\n",
    "# Build Model\n",
    "import tensorflow as tf\n",
    "from tensorflow.keras.models import Sequential\n",
    "from tensorflow.keras.layers import Dense, Activation,Dropout\n",
    "\n",
    "model = Sequential()\n",
    "\n",
    "model.add(Dense(units=490,activation='relu'))\n",
    "model.add(Dropout(0.5)) # Use Drop out so it can be comapred later even though this probably wont effect our model\n",
    "model.add(Dense(units=245,activation='relu'))\n",
    "model.add(Dropout(0.5))\n",
    "model.add(Dense(units=50,activation='relu'))\n",
    "model.add(Dropout(0.5))\n",
    "# BINARY CLASSIFICATION uses sigmoid\n",
    "model.add(Dense(units=1,activation='sigmoid'))\n",
    "\n",
    "# For a binary classification problem\n",
    "model.compile(loss='binary_crossentropy', optimizer='adam')\n"
   ]
  },
  {
   "cell_type": "code",
   "execution_count": 15,
   "metadata": {},
   "outputs": [
    {
     "name": "stdout",
     "output_type": "stream",
     "text": [
      "Epoch 1/50\n",
      "821/821 [==============================] - 8s 10ms/step - loss: 0.5532 - val_loss: 0.5192\n",
      "Epoch 2/50\n",
      "821/821 [==============================] - 7s 9ms/step - loss: 0.5251 - val_loss: 0.5158\n",
      "Epoch 3/50\n",
      "821/821 [==============================] - 7s 8ms/step - loss: 0.5181 - val_loss: 0.5146\n",
      "Epoch 4/50\n",
      "821/821 [==============================] - 7s 9ms/step - loss: 0.5137 - val_loss: 0.5133\n",
      "Epoch 5/50\n",
      "821/821 [==============================] - 7s 9ms/step - loss: 0.5093 - val_loss: 0.5148\n",
      "Epoch 6/50\n",
      "821/821 [==============================] - 6s 8ms/step - loss: 0.5049 - val_loss: 0.5164\n",
      "Epoch 7/50\n",
      "821/821 [==============================] - 7s 8ms/step - loss: 0.4997 - val_loss: 0.5174\n",
      "Epoch 8/50\n",
      "821/821 [==============================] - 6s 8ms/step - loss: 0.4942 - val_loss: 0.5196\n",
      "Epoch 9/50\n",
      "821/821 [==============================] - 7s 8ms/step - loss: 0.4867 - val_loss: 0.5227\n",
      "Epoch 10/50\n",
      "821/821 [==============================] - 7s 8ms/step - loss: 0.4797 - val_loss: 0.5266\n",
      "Epoch 11/50\n",
      "821/821 [==============================] - 6s 8ms/step - loss: 0.4742 - val_loss: 0.5299\n",
      "Epoch 12/50\n",
      "821/821 [==============================] - 6s 8ms/step - loss: 0.4678 - val_loss: 0.5323\n",
      "Epoch 13/50\n",
      "821/821 [==============================] - 7s 8ms/step - loss: 0.4605 - val_loss: 0.5356\n",
      "Epoch 14/50\n",
      "821/821 [==============================] - 7s 8ms/step - loss: 0.4545 - val_loss: 0.5403\n"
     ]
    },
    {
     "data": {
      "text/plain": [
       "<tensorflow.python.keras.callbacks.History at 0x25fb1e8b0>"
      ]
     },
     "execution_count": 15,
     "metadata": {},
     "output_type": "execute_result"
    }
   ],
   "source": [
    "# Use early stop to prevent overfitting\n",
    "from tensorflow.keras.callbacks import EarlyStopping\n",
    "early_stop = EarlyStopping(monitor='val_loss', mode='min', patience=10)\n",
    "model.fit(x=X_train.values, \n",
    "          y=y_train.values, \n",
    "          epochs=50, \n",
    "          validation_data=(X_test.values, y_test.values), \n",
    "          verbose=1,\n",
    "          batch_size=256,\n",
    "          callbacks=[early_stop]\n",
    "          )"
   ]
  },
  {
   "cell_type": "code",
   "execution_count": 16,
   "metadata": {},
   "outputs": [
    {
     "data": {
      "text/plain": [
       "0.7498499818008065"
      ]
     },
     "execution_count": 16,
     "metadata": {},
     "output_type": "execute_result"
    }
   ],
   "source": [
    "predictions = model.predict(X_test)\n",
    "roc_auc_score(y_test,predictions)"
   ]
  },
  {
   "cell_type": "markdown",
   "metadata": {},
   "source": [
    "## Fit to Test Data"
   ]
  },
  {
   "cell_type": "markdown",
   "metadata": {},
   "source": [
    "Fit our best moden (Artificial Neural Networks) to the test data to test data to see if our data was overfit"
   ]
  },
  {
   "cell_type": "code",
   "execution_count": 17,
   "metadata": {},
   "outputs": [],
   "source": [
    "# Test Base Level\n",
    "final = model_rf.predict_proba(df_test)[:, 1]"
   ]
  },
  {
   "cell_type": "code",
   "execution_count": 18,
   "metadata": {},
   "outputs": [],
   "source": [
    "# Print results\n",
    "submission = pd.DataFrame({'id': test_ids.values, 'target': final.ravel()})\n",
    "submission.to_csv('Submissions/submission.csv', index=False)"
   ]
  },
  {
   "cell_type": "markdown",
   "metadata": {},
   "source": [
    "Kaggle Result: 0.72451"
   ]
  },
  {
   "cell_type": "markdown",
   "metadata": {},
   "source": [
    "# Develop Logic for Replacing Categorical Attributes"
   ]
  },
  {
   "cell_type": "markdown",
   "metadata": {},
   "source": [
    "Now lets see if the new methodology of replacing categorial fields with ranked numbers improves our score"
   ]
  },
  {
   "cell_type": "code",
   "execution_count": 19,
   "metadata": {},
   "outputs": [],
   "source": [
    "# Reload the data for a fresh start\n",
    "df_train = pd.read_csv('SupportingFiles/train.csv')\n",
    "df_test = pd.read_csv('SupportingFiles/test.csv')"
   ]
  },
  {
   "cell_type": "code",
   "execution_count": 20,
   "metadata": {},
   "outputs": [],
   "source": [
    "from DSHelper import CatEncoder"
   ]
  },
  {
   "cell_type": "code",
   "execution_count": 21,
   "metadata": {},
   "outputs": [],
   "source": [
    "CatEncoder.GetOrdinal(df_train,'target',df_test=df_test,normalize=True)"
   ]
  },
  {
   "cell_type": "code",
   "execution_count": 22,
   "metadata": {},
   "outputs": [
    {
     "name": "stdout",
     "output_type": "stream",
     "text": [
      "nom_8      8\n",
      "nom_9    144\n",
      "dtype: int64\n"
     ]
    }
   ],
   "source": [
    "# Check test data for nulls (this would be due to new categories)\n",
    "nulls= df_test.isnull().sum()\n",
    "print(nulls[nulls > 0])"
   ]
  },
  {
   "cell_type": "code",
   "execution_count": 23,
   "metadata": {},
   "outputs": [],
   "source": [
    "# Replace with the mode so that a new category is not created\n",
    "df_test['nom_8'].fillna(df_test['nom_8'].mode()[0], inplace=True)\n",
    "df_test['nom_9'].fillna(df_test['nom_9'].mode()[0], inplace=True)"
   ]
  },
  {
   "cell_type": "code",
   "execution_count": 24,
   "metadata": {},
   "outputs": [],
   "source": [
    "y = df_train['target']\n",
    "X = df_train.drop('target', axis = 1)\n",
    "X.drop('id', axis = 1, inplace = True)"
   ]
  },
  {
   "cell_type": "markdown",
   "metadata": {},
   "source": [
    "# See if Basic Models Improve"
   ]
  },
  {
   "cell_type": "code",
   "execution_count": 25,
   "metadata": {},
   "outputs": [],
   "source": [
    "# Split into Test and Train\n",
    "from sklearn.model_selection import train_test_split\n",
    "X_train, X_test, y_train, y_test = train_test_split(X,y, test_size =0.3)"
   ]
  },
  {
   "cell_type": "code",
   "execution_count": 26,
   "metadata": {},
   "outputs": [
    {
     "name": "stdout",
     "output_type": "stream",
     "text": [
      "Logistic Regression AUC: 0.8292738529400155 Random Forest: 0.8086852330796618\n"
     ]
    }
   ],
   "source": [
    "# Train on Logistic Regression & Random Forest\n",
    "model_lr = LogisticRegression(max_iter=1000)\n",
    "model_rf = RandomForestClassifier()\n",
    "\n",
    "# Fit to training data\n",
    "model_lr.fit(X_train,y_train)\n",
    "model_rf.fit(X_train,y_train)\n",
    "\n",
    "# Apply to test\n",
    "pred_lr = model_lr.predict_proba(X_test)[:, 1]\n",
    "pred_rf = model_rf.predict_proba(X_test)[:, 1]\n",
    "\n",
    "# Get AUC Score\n",
    "from sklearn.metrics import roc_auc_score\n",
    "print(f\"Logistic Regression AUC: {roc_auc_score(y_test, pred_lr)} Random Forest: {roc_auc_score(y_test, pred_rf)}\")"
   ]
  },
  {
   "cell_type": "markdown",
   "metadata": {},
   "source": [
    "Both have sigificant increases and much less time! But we are actually hoping for a better performance with more complex models. So next step will to be to test how it interacts with bag, boosting, and dropout layers."
   ]
  },
  {
   "cell_type": "markdown",
   "metadata": {},
   "source": [
    "# Complex ML Models w/ New Categorical Method"
   ]
  },
  {
   "cell_type": "code",
   "execution_count": 27,
   "metadata": {},
   "outputs": [
    {
     "name": "stdout",
     "output_type": "stream",
     "text": [
      "XGBoost AUC: 0.8222501687949861\n"
     ]
    }
   ],
   "source": [
    "# XGBoost\n",
    "from xgboost import XGBClassifier\n",
    "model_xg = XGBClassifier()\n",
    "model_xg.fit(X_train,y_train)\n",
    "pred_xg = model_xg.predict_proba(X_test)[:, 1]\n",
    "\n",
    "print(f\"XGBoost AUC: {roc_auc_score(y_test, pred_xg)}\")"
   ]
  },
  {
   "cell_type": "code",
   "execution_count": 28,
   "metadata": {},
   "outputs": [],
   "source": [
    "# Artificial Neural Network (TensofFlow)\n",
    "\n",
    "# Build Model\n",
    "import tensorflow as tf\n",
    "from tensorflow.keras.models import Sequential\n",
    "from tensorflow.keras.layers import Dense, Activation,Dropout\n",
    "# Artificial Neural Network (TensofFlow)\n",
    "\n",
    "# Build Model\n",
    "import tensorflow as tf\n",
    "from tensorflow.keras.models import Sequential\n",
    "from tensorflow.keras.layers import Dense, Activation,Dropout\n",
    "\n",
    "model = Sequential()\n",
    "\n",
    "model.add(Dense(units=490,activation='relu'))\n",
    "model.add(Dropout(0.5)) # Use Drop out so it can be comapred later even though this probably wont effect our model\n",
    "model.add(Dense(units=245,activation='relu'))\n",
    "model.add(Dropout(0.5))\n",
    "model.add(Dense(units=50,activation='relu'))\n",
    "model.add(Dropout(0.5))\n",
    "# BINARY CLASSIFICATION uses sigmoid\n",
    "model.add(Dense(units=1,activation='sigmoid'))\n",
    "\n",
    "# For a binary classification problem\n",
    "model.compile(loss='binary_crossentropy', optimizer='adam')"
   ]
  },
  {
   "cell_type": "code",
   "execution_count": 29,
   "metadata": {},
   "outputs": [
    {
     "name": "stdout",
     "output_type": "stream",
     "text": [
      "Epoch 1/100\n",
      "821/821 [==============================] - 6s 8ms/step - loss: 0.5678 - val_loss: 0.4893\n",
      "Epoch 2/100\n",
      "821/821 [==============================] - 7s 8ms/step - loss: 0.4972 - val_loss: 0.4678\n",
      "Epoch 3/100\n",
      "821/821 [==============================] - 7s 8ms/step - loss: 0.4786 - val_loss: 0.4620\n",
      "Epoch 4/100\n",
      "821/821 [==============================] - 7s 8ms/step - loss: 0.4744 - val_loss: 0.4681\n",
      "Epoch 5/100\n",
      "821/821 [==============================] - 6s 8ms/step - loss: 0.4716 - val_loss: 0.4586\n",
      "Epoch 6/100\n",
      "821/821 [==============================] - 6s 8ms/step - loss: 0.4707 - val_loss: 0.4639\n",
      "Epoch 7/100\n",
      "821/821 [==============================] - 6s 8ms/step - loss: 0.4701 - val_loss: 0.4562\n",
      "Epoch 8/100\n",
      "821/821 [==============================] - 6s 8ms/step - loss: 0.4697 - val_loss: 0.4702\n",
      "Epoch 9/100\n",
      "821/821 [==============================] - 6s 8ms/step - loss: 0.4693 - val_loss: 0.4558\n",
      "Epoch 10/100\n",
      "821/821 [==============================] - 6s 8ms/step - loss: 0.4679 - val_loss: 0.4561\n",
      "Epoch 11/100\n",
      "821/821 [==============================] - 6s 8ms/step - loss: 0.4685 - val_loss: 0.4566\n",
      "Epoch 12/100\n",
      "821/821 [==============================] - 6s 8ms/step - loss: 0.4672 - val_loss: 0.4579\n",
      "Epoch 13/100\n",
      "821/821 [==============================] - 7s 8ms/step - loss: 0.4678 - val_loss: 0.4600\n",
      "Epoch 14/100\n",
      "821/821 [==============================] - 6s 8ms/step - loss: 0.4670 - val_loss: 0.4586\n",
      "Epoch 15/100\n",
      "821/821 [==============================] - 6s 8ms/step - loss: 0.4675 - val_loss: 0.4571\n",
      "Epoch 16/100\n",
      "821/821 [==============================] - 6s 8ms/step - loss: 0.4668 - val_loss: 0.4592\n",
      "Epoch 17/100\n",
      "821/821 [==============================] - 6s 8ms/step - loss: 0.4671 - val_loss: 0.4620\n",
      "Epoch 18/100\n",
      "821/821 [==============================] - 6s 8ms/step - loss: 0.4661 - val_loss: 0.4665\n",
      "Epoch 19/100\n",
      "821/821 [==============================] - 6s 8ms/step - loss: 0.4659 - val_loss: 0.4581\n"
     ]
    },
    {
     "data": {
      "text/plain": [
       "<tensorflow.python.keras.callbacks.History at 0x1e896f2e0>"
      ]
     },
     "execution_count": 29,
     "metadata": {},
     "output_type": "execute_result"
    }
   ],
   "source": [
    "from tensorflow.keras.callbacks import EarlyStopping\n",
    "early_stop = EarlyStopping(monitor='val_loss', mode='min', patience=10)\n",
    "model.fit(x=X_train.values, \n",
    "          y=y_train.values, \n",
    "          epochs=100, \n",
    "          validation_data=(X_test.values, y_test.values), \n",
    "          verbose=1,\n",
    "          batch_size=256,\n",
    "          callbacks=[early_stop]\n",
    "          )"
   ]
  },
  {
   "cell_type": "code",
   "execution_count": 30,
   "metadata": {},
   "outputs": [
    {
     "data": {
      "text/plain": [
       "<AxesSubplot:>"
      ]
     },
     "execution_count": 30,
     "metadata": {},
     "output_type": "execute_result"
    },
    {
     "data": {
      "image/png": "[encoded data removed]",
      "text/plain": [
       "<Figure size 432x288 with 1 Axes>"
      ]
     },
     "metadata": {
      "needs_background": "light"
     },
     "output_type": "display_data"
    }
   ],
   "source": [
    "model_loss = pd.DataFrame(model.history.history)\n",
    "model_loss.plot()"
   ]
  },
  {
   "cell_type": "code",
   "execution_count": 31,
   "metadata": {},
   "outputs": [
    {
     "name": "stdout",
     "output_type": "stream",
     "text": [
      "WARNING:tensorflow:Layer dense_4 is casting an input tensor from dtype float64 to the layer's dtype of float32, which is new behavior in TensorFlow 2.  The layer has dtype float32 because it's dtype defaults to floatx.\n",
      "\n",
      "If you intended to run this layer in float32, you can safely ignore this warning. If in doubt, this warning is likely only an issue if you are porting a TensorFlow 1.X model to TensorFlow 2.\n",
      "\n",
      "To change all layers to have dtype float64 by default, call `tf.keras.backend.set_floatx('float64')`. To change just this layer, pass dtype='float64' to the layer constructor. If you are the author of this layer, you can disable autocasting by passing autocast=False to the base Layer constructor.\n",
      "\n"
     ]
    },
    {
     "data": {
      "text/plain": [
       "0.8307645128786989"
      ]
     },
     "execution_count": 31,
     "metadata": {},
     "output_type": "execute_result"
    }
   ],
   "source": [
    "predictions = model.predict(X_test)\n",
    "roc_auc_score(y_test,predictions)"
   ]
  },
  {
   "cell_type": "markdown",
   "metadata": {},
   "source": [
    "# Export to be Evaluated"
   ]
  },
  {
   "cell_type": "code",
   "execution_count": 32,
   "metadata": {},
   "outputs": [],
   "source": [
    "test_ids = df_test['id']\n",
    "df_test.drop('id', inplace= True, axis =1 )"
   ]
  },
  {
   "cell_type": "code",
   "execution_count": 33,
   "metadata": {},
   "outputs": [],
   "source": [
    "model_lr.fit(X,y)\n",
    "pred_lr = model_rf.predict_proba(df_test)[:, 1]"
   ]
  },
  {
   "cell_type": "code",
   "execution_count": 34,
   "metadata": {},
   "outputs": [
    {
     "name": "stdout",
     "output_type": "stream",
     "text": [
      "Epoch 1/40\n",
      "1172/1172 [==============================] - 8s 7ms/step - loss: 0.4670\n",
      "Epoch 2/40\n",
      "1172/1172 [==============================] - 8s 7ms/step - loss: 0.4664\n",
      "Epoch 3/40\n",
      "1172/1172 [==============================] - 8s 7ms/step - loss: 0.4669\n",
      "Epoch 4/40\n",
      "1172/1172 [==============================] - 8s 7ms/step - loss: 0.4658\n",
      "Epoch 5/40\n",
      "1172/1172 [==============================] - 8s 7ms/step - loss: 0.4657\n",
      "Epoch 6/40\n",
      "1172/1172 [==============================] - 8s 7ms/step - loss: 0.4660\n",
      "Epoch 7/40\n",
      "1172/1172 [==============================] - 8s 7ms/step - loss: 0.4655\n",
      "Epoch 8/40\n",
      "1172/1172 [==============================] - 8s 7ms/step - loss: 0.4657\n",
      "Epoch 9/40\n",
      "1172/1172 [==============================] - 8s 7ms/step - loss: 0.4652\n",
      "Epoch 10/40\n",
      "1172/1172 [==============================] - 8s 7ms/step - loss: 0.4657\n",
      "Epoch 11/40\n",
      "1172/1172 [==============================] - 8s 7ms/step - loss: 0.4651\n",
      "Epoch 12/40\n",
      "1172/1172 [==============================] - 8s 7ms/step - loss: 0.4651\n",
      "Epoch 13/40\n",
      "1172/1172 [==============================] - 8s 7ms/step - loss: 0.4652\n",
      "Epoch 14/40\n",
      "1172/1172 [==============================] - 8s 7ms/step - loss: 0.4649\n",
      "Epoch 15/40\n",
      "1172/1172 [==============================] - 8s 7ms/step - loss: 0.4645\n",
      "Epoch 16/40\n",
      "1172/1172 [==============================] - 8s 7ms/step - loss: 0.4648\n",
      "Epoch 17/40\n",
      "1172/1172 [==============================] - 8s 7ms/step - loss: 0.4640\n",
      "Epoch 18/40\n",
      "1172/1172 [==============================] - 8s 7ms/step - loss: 0.4641\n",
      "Epoch 19/40\n",
      "1172/1172 [==============================] - 8s 7ms/step - loss: 0.4643\n",
      "Epoch 20/40\n",
      "1172/1172 [==============================] - 8s 7ms/step - loss: 0.4641\n",
      "Epoch 21/40\n",
      "1172/1172 [==============================] - 8s 7ms/step - loss: 0.4642\n",
      "Epoch 22/40\n",
      "1172/1172 [==============================] - 8s 7ms/step - loss: 0.4640\n",
      "Epoch 23/40\n",
      "1172/1172 [==============================] - 8s 7ms/step - loss: 0.4643\n",
      "Epoch 24/40\n",
      "1172/1172 [==============================] - 8s 7ms/step - loss: 0.4641\n",
      "Epoch 25/40\n",
      "1172/1172 [==============================] - 8s 7ms/step - loss: 0.4639\n",
      "Epoch 26/40\n",
      "1172/1172 [==============================] - 8s 7ms/step - loss: 0.4639\n",
      "Epoch 27/40\n",
      "1172/1172 [==============================] - 8s 7ms/step - loss: 0.4641\n",
      "Epoch 28/40\n",
      "1172/1172 [==============================] - 8s 7ms/step - loss: 0.4643\n",
      "Epoch 29/40\n",
      "1172/1172 [==============================] - 8s 7ms/step - loss: 0.4637\n",
      "Epoch 30/40\n",
      "1172/1172 [==============================] - 8s 7ms/step - loss: 0.4631\n",
      "Epoch 31/40\n",
      "1172/1172 [==============================] - 8s 7ms/step - loss: 0.4632\n",
      "Epoch 32/40\n",
      "1172/1172 [==============================] - 8s 7ms/step - loss: 0.4638\n",
      "Epoch 33/40\n",
      "1172/1172 [==============================] - 8s 7ms/step - loss: 0.4634\n",
      "Epoch 34/40\n",
      "1172/1172 [==============================] - 8s 7ms/step - loss: 0.4634\n",
      "Epoch 35/40\n",
      "1172/1172 [==============================] - 8s 7ms/step - loss: 0.4631\n",
      "Epoch 36/40\n",
      "1172/1172 [==============================] - 8s 7ms/step - loss: 0.4632\n",
      "Epoch 37/40\n",
      "1172/1172 [==============================] - 8s 7ms/step - loss: 0.4633\n",
      "Epoch 38/40\n",
      "1172/1172 [==============================] - 8s 7ms/step - loss: 0.4637\n",
      "Epoch 39/40\n",
      "1172/1172 [==============================] - 8s 7ms/step - loss: 0.4630\n",
      "Epoch 40/40\n",
      "1172/1172 [==============================] - 8s 7ms/step - loss: 0.4628\n"
     ]
    }
   ],
   "source": [
    "model.fit(x=X.values, \n",
    "          y=y.values, \n",
    "          epochs=40, \n",
    "          verbose=1,\n",
    "          batch_size=256,\n",
    "          )\n",
    "model_lr.fit(X,y)\n",
    "final = model.predict(df_test)\n",
    "pred_lr = model_rf.predict_proba(df_test)[:, 1]"
   ]
  },
  {
   "cell_type": "code",
   "execution_count": 36,
   "metadata": {},
   "outputs": [],
   "source": [
    "# Print results\n",
    "submission = pd.DataFrame({'id': test_ids.values, 'target': final.ravel()})\n",
    "submission.to_csv('Submissions/ann_submission.csv', index=False)\n",
    "\n",
    "submission = pd.DataFrame({'id': test_ids.values, 'target': pred_lr})\n",
    "submission.to_csv('Submissions/lr_submission.csv', index=False)"
   ]
  },
  {
   "cell_type": "markdown",
   "metadata": {},
   "source": [
    "ANN Kaggle Result: 0.78768 <br /> Logistic Regression Kaggle Result: 0.76443"
   ]
  }
 ],
 "metadata": {
  "kernelspec": {
   "display_name": "Python 3",
   "language": "python",
   "name": "python3"
  },
  "language_info": {
   "codemirror_mode": {
    "name": "ipython",
    "version": 3
   },
   "file_extension": ".py",
   "mimetype": "text/x-python",
   "name": "python",
   "nbconvert_exporter": "python",
   "pygments_lexer": "ipython3",
   "version": "3.8.4"
  }
 },
 "nbformat": 4,
 "nbformat_minor": 2
}
